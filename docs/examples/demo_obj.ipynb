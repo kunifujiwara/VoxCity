{
  "cells": [
    {
      "cell_type": "markdown",
      "metadata": {},
      "source": [
        "# VoxCity Demo — OBJ Export (Advanced & Simulation Results)\n",
        "\n",
        "This notebook exports the voxel city and simulation results to OBJ, demonstrating value-mapped OBJ for analysis layers.\n"
      ]
    },
    {
      "cell_type": "code",
      "execution_count": null,
      "metadata": {},
      "outputs": [],
      "source": [
        "# %pip install voxcity\n",
        "\n",
        "from voxcity.generator import get_voxcity\n",
        "from voxcity.exporter.obj import export_obj, grid_to_obj\n",
        "from voxcity.simulator.solar import get_global_solar_irradiance_using_epw\n",
        "from voxcity.simulator.view import get_view_index\n",
        "\n",
        "meshsize = 5\n",
        "rectangle_vertices = [\n",
        "    (139.760, 35.680),\n",
        "    (139.760, 35.690),\n",
        "    (139.770, 35.690),\n",
        "    (139.770, 35.680)\n",
        "]\n",
        "\n",
        "voxcity_grid, building_height_grid, building_min_height_grid, \\\n",
        "    building_id_grid, canopy_height_grid, canopy_bottom_height_grid, land_cover_grid, dem_grid, \\\n",
        "    building_gdf = get_voxcity(\n",
        "        rectangle_vertices,\n",
        "        'OpenStreetMap', 'OpenStreetMap',\n",
        "        'High Resolution 1m Global Canopy Height Maps',\n",
        "        'DeltaDTM',\n",
        "        meshsize,\n",
        "        output_dir='output/obj_demo'\n",
        ")\n",
        "\n",
        "print(voxcity_grid.shape, dem_grid.shape)\n"
      ]
    },
    {
      "cell_type": "markdown",
      "metadata": {},
      "source": [
        "## Export voxel city as OBJ\n"
      ]
    },
    {
      "cell_type": "code",
      "execution_count": null,
      "metadata": {},
      "outputs": [],
      "source": [
        "export_obj(voxcity_grid, output_dir='output/obj_demo', file_name='voxcity', voxel_size=meshsize)\n",
        "print('Exported voxcity OBJ')\n"
      ]
    },
    {
      "cell_type": "markdown",
      "metadata": {},
      "source": [
        "## Export simulation results as value-mapped OBJ\n",
        "Examples: instantaneous solar irradiance, cumulative solar, and view indices.\n"
      ]
    },
    {
      "cell_type": "code",
      "execution_count": null,
      "metadata": {},
      "outputs": [],
      "source": [
        "# Instantaneous solar\n",
        "solar_kwargs = {\n",
        "    \"download_nearest_epw\": True,\n",
        "    \"rectangle_vertices\": rectangle_vertices,\n",
        "    \"calc_time\": \"01-01 12:00:00\",\n",
        "    \"view_point_height\": 1.5,\n",
        "    \"dem_grid\": dem_grid,\n",
        "}\n",
        "solar_grid = get_global_solar_irradiance_using_epw(\n",
        "    voxcity_grid, meshsize, calc_type='instantaneous', **solar_kwargs\n",
        ")\n",
        "\n",
        "# Export instantaneous solar as colored OBJ\n",
        "from voxcity.exporter.obj import grid_to_obj\n",
        "\n",
        "grid_to_obj(\n",
        "    solar_grid, dem_grid,\n",
        "    output_dir='output/obj_demo', file_name='solar_instantaneous',\n",
        "    cell_size=meshsize, offset=1.5, colormap_name='magma', num_colors=10, alpha=1.0,\n",
        "    vmin=0\n",
        ")\n",
        "\n",
        "# Cumulative solar for a time window\n",
        "cum_kwargs = solar_kwargs.copy()\n",
        "cum_kwargs[\"start_time\"] = \"01-01 05:00:00\"\n",
        "cum_kwargs[\"end_time\"] = \"01-31 20:00:00\"\n",
        "\n",
        "cum_solar_grid = get_global_solar_irradiance_using_epw(\n",
        "    voxcity_grid, meshsize, calc_type='cumulative', **cum_kwargs\n",
        ")\n",
        "\n",
        "grid_to_obj(\n",
        "    cum_solar_grid, dem_grid,\n",
        "    output_dir='output/obj_demo', file_name='solar_cumulative',\n",
        "    cell_size=meshsize, offset=1.5, colormap_name='viridis', num_colors=10, alpha=1.0\n",
        ")\n",
        "\n",
        "# View indices\n",
        "gvi = get_view_index(voxcity_grid, meshsize, mode='green', obj_export=False)\n",
        "\n",
        "grid_to_obj(\n",
        "    gvi, dem_grid,\n",
        "    output_dir='output/obj_demo', file_name='gvi',\n",
        "    cell_size=meshsize, offset=1.5, colormap_name='Greens', num_colors=10, alpha=1.0,\n",
        "    vmin=0.0, vmax=1.0\n",
        ")\n"
      ]
    }
  ],
  "metadata": {
    "language_info": {
      "name": "python"
    }
  },
  "nbformat": 4,
  "nbformat_minor": 2
}
