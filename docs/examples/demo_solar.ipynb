{
  "cells": [
    {
      "cell_type": "markdown",
      "metadata": {},
      "source": [
        "# VoxCity Demo — Solar Irradiance (Advanced Parameters)\n",
        "\n",
        "This notebook demonstrates computing instantaneous and cumulative global solar irradiance using `voxcity.simulator.solar.get_global_solar_irradiance_using_epw`, with advanced parameters for control and performance.\n"
      ]
    },
    {
      "cell_type": "code",
      "execution_count": null,
      "metadata": {},
      "outputs": [],
      "source": [
        "# Installation (uncomment if running in a fresh environment)\n",
        "# %pip install voxcity\n",
        "# %pip install contextily osmnx geopandas matplotlib timezonefinder\n"
      ]
    },
    {
      "cell_type": "code",
      "execution_count": null,
      "metadata": {},
      "outputs": [],
      "source": [
        "import ee\n",
        "from voxcity.geoprocessor.draw import draw_rectangle_map_cityname, center_location_map_cityname\n",
        "from voxcity.generator import get_voxcity\n",
        "from voxcity.simulator.solar import get_global_solar_irradiance_using_epw\n",
        "\n",
        "# Authenticate & initialize Earth Engine (only needed if you plan to download data via GEE in your pipeline)\n",
        "# ee.Authenticate()\n",
        "# ee.Initialize(project='your-project-id')\n",
        "\n",
        "cityname = \"Tokyo, Japan\"\n",
        "meshsize = 5\n",
        "\n",
        "# Option A: Draw rectangle interactively around a city\n",
        "# m, rectangle_vertices = draw_rectangle_map_cityname(cityname, zoom=15)\n",
        "# m  # display the map, draw a rectangle, then capture rectangle_vertices\n",
        "\n",
        "# Option B: Click to set center with fixed width/height (meters)\n",
        "# m, rectangle_vertices = center_location_map_cityname(cityname, east_west_length=500, north_south_length=500, zoom=15)\n",
        "# m\n",
        "\n",
        "# Option C: Provide rectangle vertices directly (lon, lat) if known\n",
        "rectangle_vertices = [\n",
        "    (139.760, 35.680),  # SW\n",
        "    (139.760, 35.690),  # NW\n",
        "    (139.770, 35.690),  # NE\n",
        "    (139.770, 35.680)   # SE\n",
        "]\n"
      ]
    },
    {
      "cell_type": "code",
      "execution_count": null,
      "metadata": {},
      "outputs": [],
      "source": [
        "building_source = 'OpenStreetMap'\n",
        "land_cover_source = 'OpenStreetMap'\n",
        "canopy_height_source = 'High Resolution 1m Global Canopy Height Maps'\n",
        "dem_source = 'DeltaDTM'\n",
        "\n",
        "kwargs = {\n",
        "    \"output_dir\": \"output/solar_demo\",\n",
        "    # Optional DEM smoothing when reading GeoTIFF sources internally\n",
        "    \"dem_interpolation\": True,\n",
        "}\n",
        "\n",
        "voxcity_grid, building_height_grid, building_min_height_grid, \\\n",
        "    building_id_grid, canopy_height_grid, canopy_bottom_height_grid, land_cover_grid, dem_grid, \\\n",
        "    building_gdf = get_voxcity(\n",
        "        rectangle_vertices,\n",
        "        building_source,\n",
        "        land_cover_source,\n",
        "        canopy_height_source,\n",
        "        dem_source,\n",
        "        meshsize,\n",
        "        **kwargs\n",
        ")\n",
        "\n",
        "print(voxcity_grid.shape, dem_grid.shape)\n"
      ]
    },
    {
      "cell_type": "markdown",
      "metadata": {},
      "source": [
        "## Instantaneous irradiance — core usage\n",
        "Compute global solar irradiance for a specific time using EPW data. You can auto-download the nearest EPW based on the rectangle center.\n"
      ]
    },
    {
      "cell_type": "code",
      "execution_count": null,
      "metadata": {},
      "outputs": [],
      "source": [
        "solar_kwargs = {\n",
        "    \"download_nearest_epw\": True,\n",
        "    \"rectangle_vertices\": rectangle_vertices,\n",
        "    # Or set a local EPW directly:\n",
        "    # \"epw_file_path\": \"./output/your_city.epw\",\n",
        "    \"calc_time\": \"01-01 12:00:00\",\n",
        "    \"view_point_height\": 1.5,\n",
        "    \"tree_k\": 0.6,\n",
        "    \"tree_lad\": 1.0,\n",
        "    \"dem_grid\": dem_grid,\n",
        "    \"colormap\": \"magma\",\n",
        "    \"obj_export\": True,\n",
        "    \"output_directory\": \"output/solar_demo\",\n",
        "    \"output_file_name\": \"instantaneous_solar_irradiance\",\n",
        "    \"alpha\": 1.0,\n",
        "    \"vmin\": 0,\n",
        "    # \"vmax\": 900,\n",
        "}\n",
        "\n",
        "solar_grid = get_global_solar_irradiance_using_epw(\n",
        "    voxcity_grid, meshsize, calc_type='instantaneous',\n",
        "    direct_normal_irradiance_scaling=1.0, diffuse_irradiance_scaling=1.0,\n",
        "    **solar_kwargs\n",
        ")\n",
        "\n",
        "solar_grid.shape\n"
      ]
    },
    {
      "cell_type": "markdown",
      "metadata": {},
      "source": [
        "## Cumulative irradiance — advanced windowing and performance\n",
        "You can restrict hours of the day, set start/end time, and control threading to trade accuracy for speed on large time ranges.\n"
      ]
    },
    {
      "cell_type": "code",
      "execution_count": null,
      "metadata": {},
      "outputs": [],
      "source": [
        "cum_kwargs = solar_kwargs.copy()\n",
        "# Define the time window for accumulation\n",
        "cum_kwargs[\"start_time\"] = \"01-01 05:00:00\"\n",
        "cum_kwargs[\"end_time\"] = \"01-31 20:00:00\"\n",
        "\n",
        "# Optionally restrict hours each day (e.g., 8AM–4PM)\n",
        "cum_kwargs[\"start_hour\"] = 8\n",
        "cum_kwargs[\"end_hour\"] = 16\n",
        "\n",
        "# Performance controls (internal numba threads)\n",
        "cum_kwargs[\"numba_num_threads\"] = 4\n",
        "cum_kwargs[\"progress_report\"] = True\n",
        "\n",
        "cum_kwargs[\"output_file_name\"] = \"cumulative_solar_irradiance\"\n",
        "\n",
        "cum_solar_grid = get_global_solar_irradiance_using_epw(\n",
        "    voxcity_grid, meshsize, calc_type='cumulative',\n",
        "    direct_normal_irradiance_scaling=1.0, diffuse_irradiance_scaling=1.0,\n",
        "    **cum_kwargs\n",
        ")\n",
        "\n",
        "cum_solar_grid.shape\n"
      ]
    },
    {
      "cell_type": "markdown",
      "metadata": {},
      "source": [
        "## Tips\n",
        "- If EPW download fails due to SSL, consider `allow_insecure_ssl=True` or `allow_http_fallback=True` in kwargs.\n",
        "- To avoid repeated downloads, set `download_nearest_epw=False` and provide `epw_file_path`.\n",
        "- Adjust `tree_k` and `tree_lad` to tune vegetation transmittance.\n"
      ]
    },
    {
      "cell_type": "markdown",
      "metadata": {},
      "source": []
    }
  ],
  "metadata": {
    "language_info": {
      "name": "python"
    }
  },
  "nbformat": 4,
  "nbformat_minor": 2
}
