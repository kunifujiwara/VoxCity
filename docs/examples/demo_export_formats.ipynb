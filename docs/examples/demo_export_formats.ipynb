 {
 "cells": [
  {
   "cell_type": "markdown",
   "metadata": {},
   "source": [
    "# Export Formats Demo\n\nThis notebook demonstrates how to export VoxCity models to various 3D formats for visualization and analysis in different software applications."
   ]
  },
  {
   "cell_type": "markdown",
   "metadata": {},
   "source": [
    "## 1. ENVI-MET Export\n\nENVI-MET is an advanced microclimate simulation software specialized in modeling urban environments. It simulates the interactions between buildings, vegetation, and various climate parameters like temperature, wind flow, humidity, and radiation."
   ]
  },
  {
   "cell_type": "code",
   "execution_count": null,
   "metadata": {},
   "outputs": [],
   "source": [
    "from voxcity.exporter.envimet import export_inx, generate_edb_file\n\n# Example usage (replace with your actual data):\n# envimet_kwargs = {\n#     'output_directory': 'output',\n#     'author_name': 'your name',\n#     'model_description': 'generated with voxcity',\n#     'domain_building_max_height_ratio': 2,\n#     'useTelescoping_grid': True,\n#     'verticalStretch': 20,\n#     'min_grids_Z': 20,\n#     'lad': 1.0\n# }\n# export_inx(building_height_grid, building_id_grid, canopy_height_grid, land_cover_grid, dem_grid, meshsize, land_cover_source, rectangle_vertices, **envimet_kwargs)\n# generate_edb_file(**envimet_kwargs)"
   ]
  },
  {
   "cell_type": "markdown",
   "metadata": {},
   "source": [
    "## 2. OBJ Format Export\n\nOBJ files can be opened and rendered in various 3D visualization software including Twinmotion, Blender, and Rhino."
   ]
  },
  {
   "cell_type": "code",
   "execution_count": null,
   "metadata": {},
   "outputs": [],
   "source": [
    "from voxcity.exporter.obj import export_obj\n\n# Example usage (replace with your actual data):\n# output_directory = 'output'\n# output_file_name = 'voxcity'\n# export_obj(voxcity_grid, output_directory, output_file_name, meshsize)"
   ]
  },
  {
   "cell_type": "markdown",
   "metadata": {},
   "source": [
    "## 3. MagicaVoxel VOX Export\n\nMagicaVoxel is a lightweight and user-friendly voxel art editor. It allows users to create, edit, and render voxel-based 3D models with an intuitive interface."
   ]
  },
  {
   "cell_type": "code",
   "execution_count": null,
   "metadata": {},
   "outputs": [],
   "source": [
    "from voxcity.exporter.magicavoxel import export_magicavoxel_vox\n\n# Example usage (replace with your actual data):\n# output_path = 'output'\n# base_filename = 'voxcity'\n# export_magicavoxel_vox(voxcity_grid, output_path, base_filename=base_filename)"
   ]
  }
 ],
 "metadata": {
  "kernelspec": {
   "display_name": "Python 3",
   "language": "python",
   "name": "python3"
  },
  "language_info": {
   "name": "python",
   "version": "3.8.5"
  }
 },
 "nbformat": 4,
 "nbformat_minor": 4
}