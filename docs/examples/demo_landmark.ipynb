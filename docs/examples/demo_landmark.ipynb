{
  "cells": [
    {
      "cell_type": "markdown",
      "metadata": {},
      "source": [
        "# VoxCity Demo — Landmark Visibility (Advanced Parameters)\n",
        "\n",
        "This notebook demonstrates `voxcity.simulator.view.get_landmark_visibility_map` with options to pick landmarks by ID, polygon, or automatically from the center point.\n"
      ]
    },
    {
      "cell_type": "code",
      "execution_count": null,
      "metadata": {},
      "outputs": [],
      "source": [
        "# %pip install voxcity\n",
        "\n",
        "from voxcity.generator import get_voxcity\n",
        "from voxcity.geoprocessor.draw import draw_rectangle_map_cityname\n",
        "from voxcity.simulator.view import get_landmark_visibility_map\n",
        "\n",
        "meshsize = 5\n",
        "cityname = \"Tokyo, Japan\"\n",
        "\n",
        "rectangle_vertices = [\n",
        "    (139.760, 35.680),  # SW\n",
        "    (139.760, 35.690),  # NW\n",
        "    (139.770, 35.690),  # NE\n",
        "    (139.770, 35.680)   # SE\n",
        "]\n",
        "\n",
        "voxcity_grid, building_height_grid, building_min_height_grid, \\\n",
        "    building_id_grid, canopy_height_grid, canopy_bottom_height_grid, land_cover_grid, dem_grid, \\\n",
        "    building_gdf = get_voxcity(\n",
        "        rectangle_vertices,\n",
        "        'OpenStreetMap', 'OpenStreetMap',\n",
        "        'High Resolution 1m Global Canopy Height Maps',\n",
        "        'DeltaDTM',\n",
        "        meshsize,\n",
        "        output_dir='output/landmark_demo'\n",
        ")\n",
        "\n",
        "len(building_gdf)\n"
      ]
    },
    {
      "cell_type": "markdown",
      "metadata": {},
      "source": [
        "## Select landmarks\n",
        "- Option 1: Provide `landmark_building_ids`\n",
        "- Option 2: Provide a `landmark_polygon` (GeoJSON-style)\n",
        "- Option 3: Omit both and the function will pick buildings at the center point of the rectangle\n"
      ]
    },
    {
      "cell_type": "code",
      "execution_count": null,
      "metadata": {},
      "outputs": [],
      "source": [
        "landmark_kwargs = {\n",
        "    \"view_point_height\": 1.5,\n",
        "    \"colormap\": \"cool\",\n",
        "    \"obj_export\": True,\n",
        "    \"output_directory\": \"output/landmark_demo\",\n",
        "    \"output_file_name\": \"landmark_visibility\",\n",
        "    \"alpha\": 1.0,\n",
        "}\n",
        "\n",
        "# Example 1: Pick by IDs (take first few as sample)\n",
        "ids_sample = building_gdf.head(3).index.tolist()\n",
        "\n",
        "landmark_vis_map, voxcity_grid_marked = get_landmark_visibility_map(\n",
        "    voxcity_grid, building_id_grid, building_gdf, meshsize,\n",
        "    landmark_building_ids=ids_sample,\n",
        "    **landmark_kwargs\n",
        ")\n",
        "\n",
        "landmark_vis_map.shape\n"
      ]
    },
    {
      "cell_type": "code",
      "execution_count": null,
      "metadata": {},
      "outputs": [],
      "source": [
        "# Example 2: Auto-select using rectangle center (omit IDs and polygon)\n",
        "landmark_vis_map_auto, _ = get_landmark_visibility_map(\n",
        "    voxcity_grid, building_id_grid, building_gdf, meshsize,\n",
        "    rectangle_vertices=rectangle_vertices,\n",
        "    **landmark_kwargs\n",
        ")\n",
        "\n",
        "landmark_vis_map_auto.shape\n"
      ]
    }
  ],
  "metadata": {
    "language_info": {
      "name": "python"
    }
  },
  "nbformat": 4,
  "nbformat_minor": 2
}
