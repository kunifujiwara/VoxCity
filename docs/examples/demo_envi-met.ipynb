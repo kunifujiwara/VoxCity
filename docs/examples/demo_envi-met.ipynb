{
  "cells": [
    {
      "cell_type": "markdown",
      "metadata": {},
      "source": [
        "# VoxCity Demo — ENVI-met Export (Advanced Parameters)\n",
        "\n",
        "Export INX and generate EDB with control over grid telescoping and tree LAD settings.\n"
      ]
    },
    {
      "cell_type": "code",
      "execution_count": null,
      "metadata": {},
      "outputs": [],
      "source": [
        "# %pip install voxcity\n",
        "\n",
        "from voxcity.generator import get_voxcity\n",
        "from voxcity.exporter.envimet import export_inx, generate_edb_file\n",
        "\n",
        "meshsize = 5\n",
        "rectangle_vertices = [\n",
        "    (139.760, 35.680),\n",
        "    (139.760, 35.690),\n",
        "    (139.770, 35.690),\n",
        "    (139.770, 35.680)\n",
        "]\n",
        "\n",
        "voxcity_grid, building_height_grid, building_min_height_grid, \\\n",
        "    building_id_grid, canopy_height_grid, canopy_bottom_height_grid, land_cover_grid, dem_grid, \\\n",
        "    building_gdf = get_voxcity(\n",
        "        rectangle_vertices,\n",
        "        'OpenStreetMap', 'OpenStreetMap',\n",
        "        'High Resolution 1m Global Canopy Height Maps',\n",
        "        'DeltaDTM',\n",
        "        meshsize,\n",
        "        output_dir='output/envimet_demo'\n",
        ")\n",
        "\n",
        "print(building_height_grid.shape, land_cover_grid.shape)\n"
      ]
    },
    {
      "cell_type": "markdown",
      "metadata": {},
      "source": [
        "## Export INX with telescoping grid and parameters\n"
      ]
    },
    {
      "cell_type": "code",
      "execution_count": null,
      "metadata": {},
      "outputs": [],
      "source": [
        "envimet_kwargs = {\n",
        "    \"output_directory\": \"output/envimet_demo\",\n",
        "    \"file_basename\": \"voxcity\",\n",
        "    \"author_name\": \"your name\",\n",
        "    \"model_description\": \"generated with voxcity\",\n",
        "    \"domain_building_max_height_ratio\": 2,\n",
        "    \"useTelescoping_grid\": True,\n",
        "    \"verticalStretch\": 20,\n",
        "    \"min_grids_Z\": 20,\n",
        "    # vegetation database generation uses LAD / trunk ratio\n",
        "}\n",
        "\n",
        "export_inx(\n",
        "    building_height_grid, building_id_grid, canopy_height_grid,\n",
        "    land_cover_grid, dem_grid,\n",
        "    meshsize, 'OpenStreetMap', rectangle_vertices,\n",
        "    **envimet_kwargs\n",
        ")\n",
        "print('INX exported to output/envimet_demo')\n"
      ]
    },
    {
      "cell_type": "markdown",
      "metadata": {},
      "source": [
        "## Generate EDB (tree database) with LAD and trunk ratio\n"
      ]
    },
    {
      "cell_type": "code",
      "execution_count": null,
      "metadata": {},
      "outputs": [],
      "source": [
        "generate_edb_file(lad=1.0, trunk_height_ratio=11.76/19.98)\n",
        "print('EDB generated in output/envimet_demo (check function output for path)')\n"
      ]
    }
  ],
  "metadata": {
    "language_info": {
      "name": "python"
    }
  },
  "nbformat": 4,
  "nbformat_minor": 2
}
