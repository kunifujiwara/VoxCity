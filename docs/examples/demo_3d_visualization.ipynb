{
  "cells": [
    {
      "cell_type": "markdown",
      "metadata": {},
      "source": [
        "# VoxCity Demo — 3D Visualization (Static & Interactive)\n",
        "\n",
        "This notebook shows how to export OBJ for static 3D viewers and render interactive scenes in-notebook using utilities.\n"
      ]
    },
    {
      "cell_type": "code",
      "execution_count": null,
      "metadata": {},
      "outputs": [],
      "source": [
        "# %pip install voxcity plotly\n",
        "\n",
        "from voxcity.generator import get_voxcity\n",
        "from voxcity.exporter.obj import export_obj\n",
        "from voxcity.utils.visualization import (\n",
        "    visualize_voxcity_multi_view,\n",
        "    visualize_voxcity_plotly,\n",
        ")\n",
        "\n",
        "meshsize = 5\n",
        "rectangle_vertices = [\n",
        "    (139.760, 35.680),\n",
        "    (139.760, 35.690),\n",
        "    (139.770, 35.690),\n",
        "    (139.770, 35.680)\n",
        "]\n",
        "\n",
        "voxcity_grid, building_height_grid, building_min_height_grid, \\\n",
        "    building_id_grid, canopy_height_grid, canopy_bottom_height_grid, land_cover_grid, dem_grid, \\\n",
        "    building_gdf = get_voxcity(\n",
        "        rectangle_vertices,\n",
        "        'OpenStreetMap', 'OpenStreetMap',\n",
        "        'High Resolution 1m Global Canopy Height Maps',\n",
        "        'DeltaDTM',\n",
        "        meshsize,\n",
        "        output_dir='output/viz_demo'\n",
        ")\n",
        "\n",
        "voxcity_grid.shape\n"
      ]
    },
    {
      "cell_type": "markdown",
      "metadata": {},
      "source": [
        "## Static OBJ export\n",
        "Export the full voxel city grid to OBJ for viewing in Blender, Rhino, or other tools.\n"
      ]
    },
    {
      "cell_type": "code",
      "execution_count": null,
      "metadata": {},
      "outputs": [],
      "source": [
        "export_obj(voxcity_grid, output_dir='output/viz_demo', file_name='voxcity', voxel_size=meshsize)\n",
        "print('OBJ exported to output/viz_demo')\n"
      ]
    },
    {
      "cell_type": "markdown",
      "metadata": {},
      "source": [
        "## Interactive visualization (Plotly)\n",
        "Render the voxel city interactively in-notebook with orbit controls.\n"
      ]
    },
    {
      "cell_type": "code",
      "execution_count": null,
      "metadata": {},
      "outputs": [],
      "source": [
        "# Multi-view static image grid (matplotlib)\n",
        "visualize_voxcity_multi_view(\n",
        "    voxcity_grid, meshsize,\n",
        "    projection_type=\"perspective\",\n",
        "    distance_factor=1.2,\n",
        "    output_directory=\"output/viz_demo\"\n",
        ")\n",
        "\n",
        "# Plotly interactive figure\n",
        "fig = visualize_voxcity_plotly(\n",
        "    voxcity_grid, meshsize,\n",
        "    show_axes=False,\n",
        "    show_floor=False,\n",
        ")\n",
        "fig.show()\n"
      ]
    }
  ],
  "metadata": {
    "language_info": {
      "name": "python"
    }
  },
  "nbformat": 4,
  "nbformat_minor": 2
}
