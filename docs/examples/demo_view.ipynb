{
  "cells": [
    {
      "cell_type": "markdown",
      "metadata": {},
      "source": [
        "# VoxCity Demo — View Indices (Advanced Parameters)\n",
        "\n",
        "This notebook demonstrates `voxcity.simulator.view.get_view_index` for Green View Index (GVI) and Sky View Index (SVI), with advanced ray sampling and tree transmissivity settings.\n"
      ]
    },
    {
      "cell_type": "code",
      "execution_count": null,
      "metadata": {},
      "outputs": [],
      "source": [
        "# %pip install voxcity\n",
        "\n",
        "from voxcity.generator import get_voxcity\n",
        "from voxcity.geoprocessor.draw import draw_rectangle_map_cityname\n",
        "from voxcity.simulator.view import get_view_index\n",
        "\n",
        "cityname = \"Tokyo, Japan\"\n",
        "meshsize = 5\n",
        "\n",
        "# m, rectangle_vertices = draw_rectangle_map_cityname(cityname, zoom=15)\n",
        "# m\n",
        "\n",
        "rectangle_vertices = [\n",
        "    (139.760, 35.680),  # SW\n",
        "    (139.760, 35.690),  # NW\n",
        "    (139.770, 35.690),  # NE\n",
        "    (139.770, 35.680)   # SE\n",
        "]\n",
        "\n",
        "voxcity_grid, building_height_grid, building_min_height_grid, \\\n",
        "    building_id_grid, canopy_height_grid, canopy_bottom_height_grid, land_cover_grid, dem_grid, \\\n",
        "    building_gdf = get_voxcity(\n",
        "        rectangle_vertices,\n",
        "        'OpenStreetMap', 'OpenStreetMap',\n",
        "        'High Resolution 1m Global Canopy Height Maps',\n",
        "        'DeltaDTM',\n",
        "        meshsize,\n",
        "        output_dir='output/view_demo'\n",
        ")\n",
        "\n",
        "voxcity_grid.shape\n"
      ]
    },
    {
      "cell_type": "markdown",
      "metadata": {},
      "source": [
        "## GVI — advanced ray sampling\n",
        "Control number of rays, elevation band, sampling scheme (grid vs Fibonacci), and tree transmittance.\n"
      ]
    },
    {
      "cell_type": "code",
      "execution_count": null,
      "metadata": {},
      "outputs": [],
      "source": [
        "gvi_kwargs = {\n",
        "    \"view_point_height\": 1.5,\n",
        "    \"colormap\": \"Greens\",\n",
        "    \"obj_export\": True,\n",
        "    \"output_directory\": \"output/view_demo\",\n",
        "    \"output_file_name\": \"gvi\",\n",
        "    \"alpha\": 1.0,\n",
        "    # Ray sampling controls\n",
        "    \"N_azimuth\": 72,\n",
        "    \"N_elevation\": 12,\n",
        "    \"elevation_min_degrees\": -15,\n",
        "    \"elevation_max_degrees\": 30,\n",
        "    \"ray_sampling\": \"fibonacci\",  # 'grid' or 'fibonacci'\n",
        "    # Tree transmittance controls\n",
        "    \"tree_k\": 0.5,\n",
        "    \"tree_lad\": 1.0,\n",
        "}\n",
        "\n",
        "gvi_grid = get_view_index(voxcity_grid, meshsize, mode='green', **gvi_kwargs)\n",
        "\n",
        "gvi_grid.shape\n"
      ]
    },
    {
      "cell_type": "markdown",
      "metadata": {},
      "source": [
        "## SVI — horizon to zenith banding\n",
        "Adjust elevation band and colors for sky view.\n"
      ]
    },
    {
      "cell_type": "code",
      "execution_count": null,
      "metadata": {},
      "outputs": [],
      "source": [
        "svi_kwargs = gvi_kwargs.copy()\n",
        "svi_kwargs[\"colormap\"] = \"BuPu_r\"\n",
        "svi_kwargs[\"output_file_name\"] = \"svi\"\n",
        "svi_kwargs[\"elevation_min_degrees\"] = 0\n",
        "svi_kwargs[\"elevation_max_degrees\"] = 90\n",
        "\n",
        "svi_grid = get_view_index(voxcity_grid, meshsize, mode='sky', **svi_kwargs)\n",
        "\n",
        "svi_grid.shape\n"
      ]
    }
  ],
  "metadata": {
    "language_info": {
      "name": "python"
    }
  },
  "nbformat": 4,
  "nbformat_minor": 2
}
